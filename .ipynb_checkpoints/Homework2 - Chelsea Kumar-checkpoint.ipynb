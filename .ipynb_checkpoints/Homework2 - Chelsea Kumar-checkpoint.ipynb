{
 "cells": [
  {
   "cell_type": "markdown",
   "id": "0ce4edbf",
   "metadata": {},
   "source": [
    "<h1>Homework 2</h1>"
   ]
  },
  {
   "cell_type": "markdown",
   "id": "2e321dc4",
   "metadata": {},
   "source": [
    "#### Bayes' theorem:\n",
    "\\begin{equation*}\n",
    "P(A|B) = \\frac{P(B|A)P(A)}{P(B)} \\\\\n",
    "P(A|B): Posteior \\\\\n",
    "P(B|A): Likelihood \\\\\n",
    "P(A): Prior \\\\\n",
    "P(B): Marginal Probability \\\\\n",
    "\\end{equation*}"
   ]
  },
  {
   "cell_type": "markdown",
   "id": "1b6c2102",
   "metadata": {},
   "source": [
    "# Question 1\n",
    "### Read the following example and complete the exercises \n",
    "\n",
    "You are at the age of 21 and curious about if drinking alcohol would cause liver disease. You contacted a clinic site and got the following information.\n",
    "\n",
    "1. Past data tells you that 10% of patients entering the clinic have liver disease (**Prior**). \n",
    "\n",
    "2. Five percent of the clinic’s patients are alcoholics (**Marginal Probability**). \n",
    "\n",
    "3. Among the patients diagnosed with liver disease, 15% are alcoholics (**Likelihood**). \n",
    "\n",
    "Now you wonder what is the probability of a patient from the clinic have liver disease given that the patient is alcoholic (**Posterior**)"
   ]
  },
  {
   "cell_type": "markdown",
   "id": "e0c81ddf",
   "metadata": {},
   "source": [
    "### 1.1 \n",
    "\n",
    "#### If A represents the event of being an alcoholic patient in the clinic and L represents the event of being a patient with liver disease in the clinic, write the bayesian representation (P(A|B)) in the following cells\n"
   ]
  },
  {
   "cell_type": "markdown",
   "id": "90ef64bb",
   "metadata": {},
   "source": [
    "Posterior = P(L|A)"
   ]
  },
  {
   "cell_type": "markdown",
   "id": "658c4c0e",
   "metadata": {},
   "source": [
    "Prior = P(L) = 0.1"
   ]
  },
  {
   "cell_type": "markdown",
   "id": "e5f1f140",
   "metadata": {},
   "source": [
    "Likelihood = P(A|L) = 0.15"
   ]
  },
  {
   "cell_type": "markdown",
   "id": "ce4bee50",
   "metadata": {},
   "source": [
    "Marginal Probability = P(A) = 0.05"
   ]
  },
  {
   "cell_type": "markdown",
   "id": "572cc5a7",
   "metadata": {},
   "source": [
    "### 1.2 \n",
    "\n",
    "#### Define all the information available and calculate the posterior probability"
   ]
  },
  {
   "cell_type": "code",
   "execution_count": null,
   "id": "fa180ac4",
   "metadata": {},
   "outputs": [],
   "source": [
    "P(L|A) = (0.15*0.1)/0.05 "
   ]
  },
  {
   "cell_type": "code",
   "execution_count": 3,
   "id": "2048d068-31cd-43a1-9ff4-29eddc0398c8",
   "metadata": {},
   "outputs": [
    {
     "data": {
      "text/plain": [
       "0.3"
      ]
     },
     "execution_count": 3,
     "metadata": {},
     "output_type": "execute_result"
    }
   ],
   "source": [
    "x = (0.15*0.1)/0.05 "
   ]
  },
  {
   "cell_type": "markdown",
   "id": "ddce1bb4",
   "metadata": {},
   "source": [
    "# Question 2\n",
    "### Read the following example and complete the exercises \n",
    "Shown by a <a href=\"https://pubmed.ncbi.nlm.nih.gov/34242764/#:~:text=The%20overall%20sensitivity%20of%20the,%25%20CI%2024.4%2D65.1\">reaserch study</a>, the rapid antigen test for Covid has a sensitivity of 65.3% and a specificity of 99.9%. Assume 1% people have Covid. If randomly select a person and he/she tests positive using the rapid antigen test, what is the probability the person has Covid (posterior)."
   ]
  },
  {
   "cell_type": "markdown",
   "id": "1f01074b",
   "metadata": {},
   "source": [
    "### 2.1 \n",
    "\n",
    "#### The probability of which event is considered marginal probability in this case? Define it in the first cell below and calculate it in the second cell below"
   ]
  },
  {
   "cell_type": "markdown",
   "id": "fc0ce8a8",
   "metadata": {},
   "source": [
    "The event is: "
   ]
  },
  {
   "cell_type": "code",
   "execution_count": null,
   "id": "3698ab9b-075f-436a-910c-bc2ceec7e99a",
   "metadata": {},
   "outputs": [],
   "source": [
    "Posterior = P(COVID|Positive)"
   ]
  },
  {
   "cell_type": "code",
   "execution_count": null,
   "id": "2465475e-aaa9-47a7-a943-d881edbd1252",
   "metadata": {},
   "outputs": [],
   "source": [
    "Prior = P(COVID) = 0.01\n",
    "P(No_Covid) = 0.99"
   ]
  },
  {
   "cell_type": "code",
   "execution_count": null,
   "id": "a3b8062c-e5e1-44d5-8f39-e531bcc27146",
   "metadata": {},
   "outputs": [],
   "source": [
    "Likelihood = P(Positive|COVID) = 0.653"
   ]
  },
  {
   "cell_type": "code",
   "execution_count": null,
   "id": "ca647989-d0f2-47c3-943b-9488c5160b24",
   "metadata": {},
   "outputs": [],
   "source": [
    "P(Negative | No_COVID) = 0.999\n",
    "P(Positive | No_COVID) = 1 - 0.999 = 0.001"
   ]
  },
  {
   "cell_type": "code",
   "execution_count": null,
   "id": "6bd91c91-3974-45f1-b890-ed045f1745fb",
   "metadata": {},
   "outputs": [],
   "source": [
    "Marginal Probability = P(Positive) = P(Positive|COVID)*P(COVID) + P(Positive|No_Covid)*P(No_Covid)\n",
    "P(Positive) = 0.653*0.01 + 0.001*0.99"
   ]
  },
  {
   "cell_type": "code",
   "execution_count": 2,
   "id": "8d7c604e-1354-4874-9f53-bc91c45807a7",
   "metadata": {},
   "outputs": [
    {
     "name": "stdout",
     "output_type": "stream",
     "text": [
      "0.007520000000000001"
     ]
    }
   ],
   "source": [
    "print(0.653*0.01 + 0.001*0.99)"
   ]
  },
  {
   "cell_type": "markdown",
   "id": "cbb30a58",
   "metadata": {},
   "source": [
    "### 2.2 \n",
    "\n",
    "#### Define all the information and calculate the probability the randomly selected person has Covid"
   ]
  },
  {
   "cell_type": "code",
   "execution_count": null,
   "id": "1af37a23",
   "metadata": {},
   "outputs": [],
   "source": [
    "P(COVID|Positive) = (0.653*0.01)/0.007520000000000001"
   ]
  },
  {
   "cell_type": "code",
   "execution_count": 3,
   "id": "b260695b-96f9-4784-b5bc-4ad8298312a7",
   "metadata": {},
   "outputs": [
    {
     "name": "stdout",
     "output_type": "stream",
     "text": [
      "0.8683510638297872"
     ]
    }
   ],
   "source": [
    "print((0.653*0.01)/0.007520000000000001)"
   ]
  },
  {
   "cell_type": "markdown",
   "id": "13c0b486",
   "metadata": {},
   "source": [
    "# Question 3\n",
    "### <a href=\"https://juliastats.org/Distributions.jl/stable/starting/\">This page</a> is the documentation for Distribution.jl and complete the exercies"
   ]
  },
  {
   "cell_type": "markdown",
   "id": "8a852a4a",
   "metadata": {},
   "source": [
    "### 3.1 \n",
    "\n",
    "#### Randomly draw 1000 samples from a normal distribution with mean = 5 and std = 2"
   ]
  },
  {
   "cell_type": "code",
   "execution_count": 4,
   "id": "a1539748",
   "metadata": {},
   "outputs": [
    {
     "ename": "LoadError",
     "evalue": "UndefVarError: `Pkg` not defined in `Main`\nSuggestion: check for spelling errors or missing imports.\nHint: Pkg is loaded but not imported in the active module Main.",
     "output_type": "error",
     "traceback": [
      "UndefVarError: `Pkg` not defined in `Main`\nSuggestion: check for spelling errors or missing imports.\nHint: Pkg is loaded but not imported in the active module Main.",
      "",
      "Stacktrace:",
      " [1] top-level scope",
      "   @ In[4]:1"
     ]
    }
   ],
   "source": []
  },
  {
   "cell_type": "markdown",
   "id": "0b89952d",
   "metadata": {},
   "source": [
    "### 3.2\n",
    "\n",
    "#### Plot  the distribution above in a histogram"
   ]
  },
  {
   "cell_type": "code",
   "execution_count": null,
   "id": "677ef750",
   "metadata": {},
   "outputs": [],
   "source": []
  },
  {
   "cell_type": "markdown",
   "id": "acf09989",
   "metadata": {},
   "source": [
    "### 3.3\n",
    "\n",
    "#### Plot  the same distribution and change the bins to 50"
   ]
  },
  {
   "cell_type": "code",
   "execution_count": null,
   "id": "f640420a",
   "metadata": {},
   "outputs": [],
   "source": []
  },
  {
   "cell_type": "markdown",
   "id": "ad6cbc35",
   "metadata": {},
   "source": [
    "### 3.4 \n",
    "\n",
    "#### Choose a distribution other than normal distribution, Describe what it represents, and draw 1000 samples from the distribution and plot it using parameters of your choice"
   ]
  },
  {
   "cell_type": "markdown",
   "id": "6df4cb7e",
   "metadata": {},
   "source": [
    "Which distribution do you pick: "
   ]
  },
  {
   "cell_type": "markdown",
   "id": "7ea6f75c",
   "metadata": {},
   "source": [
    "What does the distribution represent?"
   ]
  },
  {
   "cell_type": "code",
   "execution_count": null,
   "id": "22a00c51",
   "metadata": {},
   "outputs": [],
   "source": []
  },
  {
   "cell_type": "markdown",
   "id": "9d56bbd5",
   "metadata": {},
   "source": [
    "### 3.5\n",
    "\n",
    "#### Plot  the two distributions in the same plot"
   ]
  },
  {
   "cell_type": "code",
   "execution_count": null,
   "id": "447aeb72",
   "metadata": {},
   "outputs": [],
   "source": []
  },
  {
   "cell_type": "markdown",
   "id": "b90287bd",
   "metadata": {},
   "source": [
    "### 3.6\n",
    "\n",
    "#### Draw 10000 samples from the two distributions separately and plot them in the same plot"
   ]
  },
  {
   "cell_type": "code",
   "execution_count": null,
   "id": "98a69dd1",
   "metadata": {},
   "outputs": [],
   "source": []
  }
 ],
 "metadata": {
  "kernelspec": {
   "display_name": "Julia 1.11.3",
   "language": "julia",
   "name": "julia-1.11"
  },
  "language_info": {
   "file_extension": ".jl",
   "mimetype": "application/julia",
   "name": "julia",
   "version": "1.11.3"
  }
 },
 "nbformat": 4,
 "nbformat_minor": 5
}
